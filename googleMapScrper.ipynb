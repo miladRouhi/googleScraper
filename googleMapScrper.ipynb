{
 "cells": [
  {
   "cell_type": "code",
   "execution_count": 1,
   "id": "326faa3a",
   "metadata": {},
   "outputs": [],
   "source": [
    "from bs4 import BeautifulSoup as bs\n",
    "import csv"
   ]
  },
  {
   "cell_type": "markdown",
   "id": "7614c0b4",
   "metadata": {},
   "source": [
    "Output Settings"
   ]
  },
  {
   "cell_type": "code",
   "execution_count": 2,
   "id": "e31b54b7",
   "metadata": {},
   "outputs": [
    {
     "data": {
      "text/plain": [
       "17"
      ]
     },
     "execution_count": 2,
     "metadata": {},
     "output_type": "execute_result"
    }
   ],
   "source": [
    "outputName = \"IsfahanGyms\"\n",
    "outputPath = \"ouputFiles\\{outputName}.csv\" \n",
    "outputFile = open(outputPath.format(outputName = outputName) , \"w\" , encoding=\"utf-8\")\n",
    "writer = csv.writer(outputFile)\n",
    "writer.writerow(['row' , 'title'  , 'phone'])"
   ]
  },
  {
   "cell_type": "markdown",
   "id": "171c6d49",
   "metadata": {},
   "source": [
    "Input Settings"
   ]
  },
  {
   "cell_type": "code",
   "execution_count": 3,
   "id": "1935fe2e",
   "metadata": {},
   "outputs": [],
   "source": [
    "inputName = \"IsfahanGyms\"\n",
    "inputPath = \"inputFiles\\{inputName}.txt\"\n",
    "page = open(inputPath.format(inputName = inputName) , \"r\" , encoding=\"utf8\")"
   ]
  },
  {
   "cell_type": "markdown",
   "id": "69044fa6",
   "metadata": {},
   "source": [
    "Scrap"
   ]
  },
  {
   "cell_type": "code",
   "execution_count": 4,
   "id": "4d5bd8ad",
   "metadata": {},
   "outputs": [
    {
     "name": "stdout",
     "output_type": "stream",
     "text": [
      "It's done\n"
     ]
    }
   ],
   "source": [
    "lines = page.read()\n",
    "soup = bs(lines, \"html.parser\")\n",
    "results =  soup.find_all(\"div\", class_=\"VkpGBb\")\n",
    "i = 0\n",
    "for thing in results:\n",
    "    try:\n",
    "        title = thing.find(\"span\", class_=\"OSrXXb\").text.strip()\n",
    "        allNodes = thing.find(\"div\" , class_=\"rllt__details\")\n",
    "        phone = allNodes.findChildren(\"div\" , recursive=False)[3].text.strip()\n",
    "    except:\n",
    "        title = \"00000\"\n",
    "        phone = \"00000\"\n",
    "    finally:\n",
    "        i = i + 1\n",
    "        writer.writerow([i , title  , phone])\n",
    "page.close()\n",
    "outputFile.close()\n",
    "print(\"It's done\")"
   ]
  },
  {
   "cell_type": "code",
   "execution_count": null,
   "id": "8e68a7ec",
   "metadata": {},
   "outputs": [],
   "source": []
  }
 ],
 "metadata": {
  "kernelspec": {
   "display_name": "Python 3 (ipykernel)",
   "language": "python",
   "name": "python3"
  },
  "language_info": {
   "codemirror_mode": {
    "name": "ipython",
    "version": 3
   },
   "file_extension": ".py",
   "mimetype": "text/x-python",
   "name": "python",
   "nbconvert_exporter": "python",
   "pygments_lexer": "ipython3",
   "version": "3.10.11"
  }
 },
 "nbformat": 4,
 "nbformat_minor": 5
}
